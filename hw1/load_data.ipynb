{
 "cells": [
  {
   "cell_type": "code",
   "execution_count": 54,
   "id": "8312fc7b-136c-42d8-a849-05f5a2dfbebf",
   "metadata": {
    "tags": []
   },
   "outputs": [],
   "source": [
    "import sqlalchemy as sa\n",
    "import pandas as pd"
   ]
  },
  {
   "cell_type": "code",
   "execution_count": 20,
   "id": "02f8b583-7bc9-417c-8b31-0424a0e7f579",
   "metadata": {
    "tags": []
   },
   "outputs": [],
   "source": [
    "eng = sa.create_engine('vertica+vertica_python://dbadmin:@localhost:5433/VMart')"
   ]
  },
  {
   "cell_type": "markdown",
   "id": "4f39dedf-4e98-49eb-b5f0-d7c289d7e987",
   "metadata": {
    "tags": []
   },
   "source": [
    "### Dictionary tables"
   ]
  },
  {
   "cell_type": "code",
   "execution_count": 35,
   "id": "66958e94-1685-49bf-a634-a42b206bb0e5",
   "metadata": {},
   "outputs": [],
   "source": [
    "activity_type_file = \"../../sandbox.KNU/dictionary/activity_type.tsv\"\n",
    "\n",
    "activity_type_df = pd.read_csv(activity_type_file, sep='\\t')\n",
    "activity_type_df.to_sql(\"activity_type\", \n",
    "                        if_exists=\"replace\",\n",
    "                        con=eng,\n",
    "                        schema=\"dictionary\",\n",
    "                        index=False,\n",
    "                        dtype={\n",
    "                            'id': sa.types.INTEGER(),\n",
    "                            'type': sa.types.VARCHAR(50)\n",
    "                        })\n"
   ]
  },
  {
   "cell_type": "code",
   "execution_count": 34,
   "id": "afeb6c37-143b-4bcb-a23f-6d4e29decbbe",
   "metadata": {},
   "outputs": [],
   "source": [
    "context_file = \"../../sandbox.KNU/dictionary/context.tsv\"\n",
    "\n",
    "context_df = pd.read_csv(context_file, sep='\\t')\n",
    "context_df.to_sql(\"context\", \n",
    "                        if_exists=\"replace\",\n",
    "                        con=eng,\n",
    "                        schema=\"dictionary\",\n",
    "                        index=False,\n",
    "                        dtype={\n",
    "                            'id': sa.types.INTEGER(),\n",
    "                            'name': sa.types.VARCHAR(50)\n",
    "                        })\n"
   ]
  },
  {
   "cell_type": "code",
   "execution_count": 41,
   "id": "544a24b1-5430-49cc-be5a-329d4ab8d2eb",
   "metadata": {},
   "outputs": [],
   "source": [
    "service_type_file = \"../../sandbox.KNU/dictionary/service_type.tsv\"\n",
    "\n",
    "service_type_df = pd.read_csv(service_type_file, sep='\\t')\n",
    "service_type_df.to_sql(\"service_type\", \n",
    "                        if_exists=\"replace\",\n",
    "                        con=eng,\n",
    "                        schema=\"dictionary\",\n",
    "                        index=False,\n",
    "                        dtype={\n",
    "                            'type_id': sa.types.INTEGER(),\n",
    "                            'name': sa.types.VARCHAR(50)\n",
    "                        })\n"
   ]
  },
  {
   "cell_type": "markdown",
   "id": "1c112448-433c-4b6e-8113-0e65bc2aaba8",
   "metadata": {},
   "source": [
    "### Marketing tables"
   ]
  },
  {
   "cell_type": "markdown",
   "id": "558a4495-c782-44e4-97ab-2faef9156ba2",
   "metadata": {},
   "source": [
    "#### Orders table"
   ]
  },
  {
   "cell_type": "code",
   "execution_count": 45,
   "id": "56c99ee0-1c41-4063-960e-f1a73d207180",
   "metadata": {},
   "outputs": [
    {
     "data": {
      "text/html": [
       "<div>\n",
       "<style scoped>\n",
       "    .dataframe tbody tr th:only-of-type {\n",
       "        vertical-align: middle;\n",
       "    }\n",
       "\n",
       "    .dataframe tbody tr th {\n",
       "        vertical-align: top;\n",
       "    }\n",
       "\n",
       "    .dataframe thead th {\n",
       "        text-align: right;\n",
       "    }\n",
       "</style>\n",
       "<table border=\"1\" class=\"dataframe\">\n",
       "  <thead>\n",
       "    <tr style=\"text-align: right;\">\n",
       "      <th></th>\n",
       "      <th>order_id</th>\n",
       "      <th>dt</th>\n",
       "      <th>user_id</th>\n",
       "      <th>gross</th>\n",
       "      <th>type_id</th>\n",
       "      <th>context_id</th>\n",
       "      <th>parent_order_id</th>\n",
       "    </tr>\n",
       "  </thead>\n",
       "  <tbody>\n",
       "    <tr>\n",
       "      <th>0</th>\n",
       "      <td>31954283</td>\n",
       "      <td>2020-06-28 05:43:18.000000</td>\n",
       "      <td>1516604161</td>\n",
       "      <td>1.98</td>\n",
       "      <td>3</td>\n",
       "      <td>4</td>\n",
       "      <td>NaN</td>\n",
       "    </tr>\n",
       "    <tr>\n",
       "      <th>1</th>\n",
       "      <td>31954691</td>\n",
       "      <td>2020-06-28 06:26:22.000000</td>\n",
       "      <td>1516459566</td>\n",
       "      <td>1.98</td>\n",
       "      <td>3</td>\n",
       "      <td>6</td>\n",
       "      <td>NaN</td>\n",
       "    </tr>\n",
       "    <tr>\n",
       "      <th>2</th>\n",
       "      <td>31955380</td>\n",
       "      <td>2020-06-28 07:30:07.000000</td>\n",
       "      <td>1516791409</td>\n",
       "      <td>1.98</td>\n",
       "      <td>3</td>\n",
       "      <td>7</td>\n",
       "      <td>NaN</td>\n",
       "    </tr>\n",
       "    <tr>\n",
       "      <th>3</th>\n",
       "      <td>31955397</td>\n",
       "      <td>2020-06-28 07:30:27.000000</td>\n",
       "      <td>1516791409</td>\n",
       "      <td>4.60</td>\n",
       "      <td>21</td>\n",
       "      <td>5</td>\n",
       "      <td>NaN</td>\n",
       "    </tr>\n",
       "    <tr>\n",
       "      <th>4</th>\n",
       "      <td>31956537</td>\n",
       "      <td>2020-06-28 09:07:30.000000</td>\n",
       "      <td>1516891400</td>\n",
       "      <td>1.98</td>\n",
       "      <td>3</td>\n",
       "      <td>4</td>\n",
       "      <td>NaN</td>\n",
       "    </tr>\n",
       "    <tr>\n",
       "      <th>...</th>\n",
       "      <td>...</td>\n",
       "      <td>...</td>\n",
       "      <td>...</td>\n",
       "      <td>...</td>\n",
       "      <td>...</td>\n",
       "      <td>...</td>\n",
       "      <td>...</td>\n",
       "    </tr>\n",
       "    <tr>\n",
       "      <th>18617</th>\n",
       "      <td>34439212</td>\n",
       "      <td>2020-10-28 23:20:08.000000</td>\n",
       "      <td>1797239543</td>\n",
       "      <td>15.23</td>\n",
       "      <td>21</td>\n",
       "      <td>5</td>\n",
       "      <td>NaN</td>\n",
       "    </tr>\n",
       "    <tr>\n",
       "      <th>18618</th>\n",
       "      <td>34439382</td>\n",
       "      <td>2020-10-28 23:29:01.000000</td>\n",
       "      <td>1787559126</td>\n",
       "      <td>32.12</td>\n",
       "      <td>3</td>\n",
       "      <td>1</td>\n",
       "      <td>34351603.0</td>\n",
       "    </tr>\n",
       "    <tr>\n",
       "      <th>18619</th>\n",
       "      <td>34439356</td>\n",
       "      <td>2020-10-28 23:30:12.000000</td>\n",
       "      <td>1777954113</td>\n",
       "      <td>1.98</td>\n",
       "      <td>3</td>\n",
       "      <td>7</td>\n",
       "      <td>NaN</td>\n",
       "    </tr>\n",
       "    <tr>\n",
       "      <th>18620</th>\n",
       "      <td>34439782</td>\n",
       "      <td>2020-10-28 23:49:03.000000</td>\n",
       "      <td>1802210881</td>\n",
       "      <td>17.98</td>\n",
       "      <td>3</td>\n",
       "      <td>7</td>\n",
       "      <td>NaN</td>\n",
       "    </tr>\n",
       "    <tr>\n",
       "      <th>18621</th>\n",
       "      <td>34439906</td>\n",
       "      <td>2020-10-28 23:55:41.000000</td>\n",
       "      <td>1801070148</td>\n",
       "      <td>12.10</td>\n",
       "      <td>3</td>\n",
       "      <td>1</td>\n",
       "      <td>34357194.0</td>\n",
       "    </tr>\n",
       "  </tbody>\n",
       "</table>\n",
       "<p>18622 rows × 7 columns</p>\n",
       "</div>"
      ],
      "text/plain": [
       "       order_id                          dt     user_id  gross  type_id  \\\n",
       "0      31954283  2020-06-28 05:43:18.000000  1516604161   1.98        3   \n",
       "1      31954691  2020-06-28 06:26:22.000000  1516459566   1.98        3   \n",
       "2      31955380  2020-06-28 07:30:07.000000  1516791409   1.98        3   \n",
       "3      31955397  2020-06-28 07:30:27.000000  1516791409   4.60       21   \n",
       "4      31956537  2020-06-28 09:07:30.000000  1516891400   1.98        3   \n",
       "...         ...                         ...         ...    ...      ...   \n",
       "18617  34439212  2020-10-28 23:20:08.000000  1797239543  15.23       21   \n",
       "18618  34439382  2020-10-28 23:29:01.000000  1787559126  32.12        3   \n",
       "18619  34439356  2020-10-28 23:30:12.000000  1777954113   1.98        3   \n",
       "18620  34439782  2020-10-28 23:49:03.000000  1802210881  17.98        3   \n",
       "18621  34439906  2020-10-28 23:55:41.000000  1801070148  12.10        3   \n",
       "\n",
       "       context_id  parent_order_id  \n",
       "0               4              NaN  \n",
       "1               6              NaN  \n",
       "2               7              NaN  \n",
       "3               5              NaN  \n",
       "4               4              NaN  \n",
       "...           ...              ...  \n",
       "18617           5              NaN  \n",
       "18618           1       34351603.0  \n",
       "18619           7              NaN  \n",
       "18620           7              NaN  \n",
       "18621           1       34357194.0  \n",
       "\n",
       "[18622 rows x 7 columns]"
      ]
     },
     "execution_count": 45,
     "metadata": {},
     "output_type": "execute_result"
    }
   ],
   "source": [
    "orders_file = \"../../sandbox.KNU/marketing/orders.tsv\"\n",
    "\n",
    "orders_df = pd.read_csv(orders_file, sep='\\t')\n",
    "orders_df"
   ]
  },
  {
   "cell_type": "markdown",
   "id": "25a4fc13-3e07-45a8-a602-8098ab36c05c",
   "metadata": {},
   "source": [
    "As we can see, in `parent_order_id` column there are non integers, but they are supposed to be. So we need to convert them before uploading"
   ]
  },
  {
   "cell_type": "code",
   "execution_count": 52,
   "id": "44205784-4999-4368-8708-40853d81f55a",
   "metadata": {},
   "outputs": [],
   "source": [
    "orders_df['parent_order_id'] = orders_df['parent_order_id'].astype(\"Int32\")"
   ]
  },
  {
   "cell_type": "code",
   "execution_count": 53,
   "id": "ad3ce9f1-9652-4232-aa63-b9424ba3061a",
   "metadata": {},
   "outputs": [
    {
     "data": {
      "text/html": [
       "<div>\n",
       "<style scoped>\n",
       "    .dataframe tbody tr th:only-of-type {\n",
       "        vertical-align: middle;\n",
       "    }\n",
       "\n",
       "    .dataframe tbody tr th {\n",
       "        vertical-align: top;\n",
       "    }\n",
       "\n",
       "    .dataframe thead th {\n",
       "        text-align: right;\n",
       "    }\n",
       "</style>\n",
       "<table border=\"1\" class=\"dataframe\">\n",
       "  <thead>\n",
       "    <tr style=\"text-align: right;\">\n",
       "      <th></th>\n",
       "      <th>order_id</th>\n",
       "      <th>dt</th>\n",
       "      <th>user_id</th>\n",
       "      <th>gross</th>\n",
       "      <th>type_id</th>\n",
       "      <th>context_id</th>\n",
       "      <th>parent_order_id</th>\n",
       "    </tr>\n",
       "  </thead>\n",
       "  <tbody>\n",
       "    <tr>\n",
       "      <th>0</th>\n",
       "      <td>31954283</td>\n",
       "      <td>2020-06-28 05:43:18.000000</td>\n",
       "      <td>1516604161</td>\n",
       "      <td>1.98</td>\n",
       "      <td>3</td>\n",
       "      <td>4</td>\n",
       "      <td>&lt;NA&gt;</td>\n",
       "    </tr>\n",
       "    <tr>\n",
       "      <th>1</th>\n",
       "      <td>31954691</td>\n",
       "      <td>2020-06-28 06:26:22.000000</td>\n",
       "      <td>1516459566</td>\n",
       "      <td>1.98</td>\n",
       "      <td>3</td>\n",
       "      <td>6</td>\n",
       "      <td>&lt;NA&gt;</td>\n",
       "    </tr>\n",
       "    <tr>\n",
       "      <th>2</th>\n",
       "      <td>31955380</td>\n",
       "      <td>2020-06-28 07:30:07.000000</td>\n",
       "      <td>1516791409</td>\n",
       "      <td>1.98</td>\n",
       "      <td>3</td>\n",
       "      <td>7</td>\n",
       "      <td>&lt;NA&gt;</td>\n",
       "    </tr>\n",
       "    <tr>\n",
       "      <th>3</th>\n",
       "      <td>31955397</td>\n",
       "      <td>2020-06-28 07:30:27.000000</td>\n",
       "      <td>1516791409</td>\n",
       "      <td>4.60</td>\n",
       "      <td>21</td>\n",
       "      <td>5</td>\n",
       "      <td>&lt;NA&gt;</td>\n",
       "    </tr>\n",
       "    <tr>\n",
       "      <th>4</th>\n",
       "      <td>31956537</td>\n",
       "      <td>2020-06-28 09:07:30.000000</td>\n",
       "      <td>1516891400</td>\n",
       "      <td>1.98</td>\n",
       "      <td>3</td>\n",
       "      <td>4</td>\n",
       "      <td>&lt;NA&gt;</td>\n",
       "    </tr>\n",
       "    <tr>\n",
       "      <th>...</th>\n",
       "      <td>...</td>\n",
       "      <td>...</td>\n",
       "      <td>...</td>\n",
       "      <td>...</td>\n",
       "      <td>...</td>\n",
       "      <td>...</td>\n",
       "      <td>...</td>\n",
       "    </tr>\n",
       "    <tr>\n",
       "      <th>18617</th>\n",
       "      <td>34439212</td>\n",
       "      <td>2020-10-28 23:20:08.000000</td>\n",
       "      <td>1797239543</td>\n",
       "      <td>15.23</td>\n",
       "      <td>21</td>\n",
       "      <td>5</td>\n",
       "      <td>&lt;NA&gt;</td>\n",
       "    </tr>\n",
       "    <tr>\n",
       "      <th>18618</th>\n",
       "      <td>34439382</td>\n",
       "      <td>2020-10-28 23:29:01.000000</td>\n",
       "      <td>1787559126</td>\n",
       "      <td>32.12</td>\n",
       "      <td>3</td>\n",
       "      <td>1</td>\n",
       "      <td>34351603</td>\n",
       "    </tr>\n",
       "    <tr>\n",
       "      <th>18619</th>\n",
       "      <td>34439356</td>\n",
       "      <td>2020-10-28 23:30:12.000000</td>\n",
       "      <td>1777954113</td>\n",
       "      <td>1.98</td>\n",
       "      <td>3</td>\n",
       "      <td>7</td>\n",
       "      <td>&lt;NA&gt;</td>\n",
       "    </tr>\n",
       "    <tr>\n",
       "      <th>18620</th>\n",
       "      <td>34439782</td>\n",
       "      <td>2020-10-28 23:49:03.000000</td>\n",
       "      <td>1802210881</td>\n",
       "      <td>17.98</td>\n",
       "      <td>3</td>\n",
       "      <td>7</td>\n",
       "      <td>&lt;NA&gt;</td>\n",
       "    </tr>\n",
       "    <tr>\n",
       "      <th>18621</th>\n",
       "      <td>34439906</td>\n",
       "      <td>2020-10-28 23:55:41.000000</td>\n",
       "      <td>1801070148</td>\n",
       "      <td>12.10</td>\n",
       "      <td>3</td>\n",
       "      <td>1</td>\n",
       "      <td>34357194</td>\n",
       "    </tr>\n",
       "  </tbody>\n",
       "</table>\n",
       "<p>18622 rows × 7 columns</p>\n",
       "</div>"
      ],
      "text/plain": [
       "       order_id                          dt     user_id  gross  type_id  \\\n",
       "0      31954283  2020-06-28 05:43:18.000000  1516604161   1.98        3   \n",
       "1      31954691  2020-06-28 06:26:22.000000  1516459566   1.98        3   \n",
       "2      31955380  2020-06-28 07:30:07.000000  1516791409   1.98        3   \n",
       "3      31955397  2020-06-28 07:30:27.000000  1516791409   4.60       21   \n",
       "4      31956537  2020-06-28 09:07:30.000000  1516891400   1.98        3   \n",
       "...         ...                         ...         ...    ...      ...   \n",
       "18617  34439212  2020-10-28 23:20:08.000000  1797239543  15.23       21   \n",
       "18618  34439382  2020-10-28 23:29:01.000000  1787559126  32.12        3   \n",
       "18619  34439356  2020-10-28 23:30:12.000000  1777954113   1.98        3   \n",
       "18620  34439782  2020-10-28 23:49:03.000000  1802210881  17.98        3   \n",
       "18621  34439906  2020-10-28 23:55:41.000000  1801070148  12.10        3   \n",
       "\n",
       "       context_id  parent_order_id  \n",
       "0               4             <NA>  \n",
       "1               6             <NA>  \n",
       "2               7             <NA>  \n",
       "3               5             <NA>  \n",
       "4               4             <NA>  \n",
       "...           ...              ...  \n",
       "18617           5             <NA>  \n",
       "18618           1         34351603  \n",
       "18619           7             <NA>  \n",
       "18620           7             <NA>  \n",
       "18621           1         34357194  \n",
       "\n",
       "[18622 rows x 7 columns]"
      ]
     },
     "execution_count": 53,
     "metadata": {},
     "output_type": "execute_result"
    }
   ],
   "source": [
    "orders_df"
   ]
  },
  {
   "cell_type": "code",
   "execution_count": 55,
   "id": "64c2dd05-b402-4871-b53e-17af3a400bba",
   "metadata": {},
   "outputs": [],
   "source": [
    "orders_df.to_sql(\"orders\", \n",
    "                        if_exists=\"replace\",\n",
    "                        con=eng,\n",
    "                        schema=\"marketing\",\n",
    "                        index=False,\n",
    "                        dtype={\n",
    "                            'order_id': sa.types.INTEGER(),\n",
    "                            'dt': sa.DateTime(),\n",
    "                            'user_id': sa.types.INTEGER(),\n",
    "                            'gross': sa.types.FLOAT(),\n",
    "                            'type_id': sa.types.INTEGER(),\n",
    "                            'context_id': sa.types.INTEGER(),\n",
    "                            'parent_order_id': sa.types.INTEGER()\n",
    "                        })\n"
   ]
  },
  {
   "cell_type": "markdown",
   "id": "4440bba4-a3ed-42bc-a22a-f7ef565ed057",
   "metadata": {},
   "source": [
    "#### Subchannels cost table"
   ]
  },
  {
   "cell_type": "code",
   "execution_count": 62,
   "id": "96473d24-93c2-4c6f-aa1b-92a68367052c",
   "metadata": {},
   "outputs": [
    {
     "name": "stdout",
     "output_type": "stream",
     "text": [
      "<class 'pandas.core.frame.DataFrame'>\n",
      "RangeIndex: 195126 entries, 0 to 195125\n",
      "Data columns (total 3 columns):\n",
      " #   Column         Non-Null Count   Dtype  \n",
      "---  ------         --------------   -----  \n",
      " 0   subchannel_id  195126 non-null  int64  \n",
      " 1   dt             195126 non-null  object \n",
      " 2   cost           195126 non-null  float64\n",
      "dtypes: float64(1), int64(1), object(1)\n",
      "memory usage: 4.5+ MB\n"
     ]
    }
   ],
   "source": [
    "subchannels_cost_file = \"../../sandbox.KNU/marketing/subchannels_cost.tsv\"\n",
    "\n",
    "subchannels_cost_df = pd.read_csv(subchannels_cost_file, sep='\\t')\n",
    "subchannels_cost_df.info()"
   ]
  },
  {
   "cell_type": "markdown",
   "id": "9cdae86e-c471-4ffb-8aa4-e5592ef98126",
   "metadata": {},
   "source": [
    "Zero id looks a bit strange, I am not sure here is it missing or there is really zero-indexed subchannel, so will leave it alive"
   ]
  },
  {
   "cell_type": "code",
   "execution_count": 68,
   "id": "1b8668a6-eb66-4596-81cb-9af43df6e6e2",
   "metadata": {},
   "outputs": [
    {
     "data": {
      "text/plain": [
       "count    1.951260e+05\n",
       "mean     1.412921e+08\n",
       "std      5.071496e+07\n",
       "min      0.000000e+00\n",
       "25%      1.099928e+08\n",
       "50%      1.171573e+08\n",
       "75%      1.658541e+08\n",
       "max      2.566522e+08\n",
       "Name: subchannel_id, dtype: float64"
      ]
     },
     "execution_count": 68,
     "metadata": {},
     "output_type": "execute_result"
    }
   ],
   "source": [
    "subchannels_cost_df['subchannel_id'].describe()"
   ]
  },
  {
   "cell_type": "code",
   "execution_count": 66,
   "id": "6c2f5168-d240-411b-b317-1567e01ec130",
   "metadata": {},
   "outputs": [],
   "source": [
    "subchannels_cost_df.to_sql(\"subchannels_cost\", \n",
    "                        if_exists=\"replace\",\n",
    "                        con=eng,\n",
    "                        schema=\"marketing\",\n",
    "                        index=False,\n",
    "                        dtype={\n",
    "                            'subchannel_id': sa.types.INTEGER(),\n",
    "                            'dt': sa.DateTime(),\n",
    "                            'cost': sa.types.FLOAT()\n",
    "                        })\n"
   ]
  },
  {
   "cell_type": "markdown",
   "id": "a5609558-8fc3-4ca1-975f-3f6e4417b540",
   "metadata": {},
   "source": [
    "#### Subscription status table"
   ]
  },
  {
   "cell_type": "code",
   "execution_count": 70,
   "id": "05c717aa-906b-4019-86b2-a11ecd522ef3",
   "metadata": {},
   "outputs": [
    {
     "name": "stdout",
     "output_type": "stream",
     "text": [
      "<class 'pandas.core.frame.DataFrame'>\n",
      "RangeIndex: 15753 entries, 0 to 15752\n",
      "Data columns (total 3 columns):\n",
      " #   Column           Non-Null Count  Dtype \n",
      "---  ------           --------------  ----- \n",
      " 0   parent_order_id  15753 non-null  int64 \n",
      " 1   dt               15753 non-null  object\n",
      " 2   status           15753 non-null  object\n",
      "dtypes: int64(1), object(2)\n",
      "memory usage: 369.3+ KB\n"
     ]
    }
   ],
   "source": [
    "subscription_status_file = \"../../sandbox.KNU/marketing/subscription_status.tsv\"\n",
    "\n",
    "subscription_status_df = pd.read_csv(subscription_status_file, sep='\\t')\n",
    "subscription_status_df.info()"
   ]
  },
  {
   "cell_type": "code",
   "execution_count": 73,
   "id": "75c76684-7435-441a-a441-d95b553b47b1",
   "metadata": {},
   "outputs": [
    {
     "data": {
      "text/plain": [
       "0        0\n",
       "1        0\n",
       "2        0\n",
       "3        0\n",
       "4        0\n",
       "        ..\n",
       "15748    0\n",
       "15749    0\n",
       "15750    0\n",
       "15751    0\n",
       "15752    0\n",
       "Length: 15753, dtype: int64"
      ]
     },
     "execution_count": 73,
     "metadata": {},
     "output_type": "execute_result"
    }
   ],
   "source": [
    "subscription_status_df.isnull().sum(axis=1)"
   ]
  },
  {
   "cell_type": "code",
   "execution_count": 75,
   "id": "0b987d4e-7a82-4d06-994d-cbc9df9f74c4",
   "metadata": {},
   "outputs": [],
   "source": [
    "subscription_status_df.to_sql(\"subscription_status\", \n",
    "                        if_exists=\"replace\",\n",
    "                        con=eng,\n",
    "                        schema=\"marketing\",\n",
    "                        index=False,\n",
    "                        dtype={\n",
    "                            'status': sa.types.VARCHAR(50),\n",
    "                            'dt': sa.DateTime(),\n",
    "                            'parent_order_id': sa.types.INTEGER()\n",
    "                        })\n"
   ]
  },
  {
   "cell_type": "markdown",
   "id": "eb92361f-6dba-4e32-ba6c-ce247a14f774",
   "metadata": {},
   "source": [
    "### Product tables"
   ]
  },
  {
   "cell_type": "markdown",
   "id": "5ddcf855-7c6c-47ec-bd66-01030a718f0d",
   "metadata": {},
   "source": [
    "#### Activities table"
   ]
  },
  {
   "cell_type": "code",
   "execution_count": 78,
   "id": "9a6e0729-c1a9-4563-b54c-d0799c368e9f",
   "metadata": {},
   "outputs": [
    {
     "name": "stdout",
     "output_type": "stream",
     "text": [
      "<class 'pandas.core.frame.DataFrame'>\n",
      "RangeIndex: 204514 entries, 0 to 204513\n",
      "Data columns (total 5 columns):\n",
      " #   Column         Non-Null Count   Dtype \n",
      "---  ------         --------------   ----- \n",
      " 0   dt             204514 non-null  object\n",
      " 1   activity_type  204514 non-null  int64 \n",
      " 2   user_id        204514 non-null  int64 \n",
      " 3   contact_id     204514 non-null  int64 \n",
      " 4   user_app       204514 non-null  object\n",
      "dtypes: int64(3), object(2)\n",
      "memory usage: 7.8+ MB\n"
     ]
    }
   ],
   "source": [
    "activities_file = \"../../sandbox.KNU/product/activities.tsv\"\n",
    "\n",
    "activities_df = pd.read_csv(activities_file, sep='\\t')\n",
    "activities_df.info()"
   ]
  },
  {
   "cell_type": "code",
   "execution_count": 79,
   "id": "21144e91-2012-431b-8118-610f43475c3c",
   "metadata": {},
   "outputs": [],
   "source": [
    "activities_df.to_sql(\"activities\", \n",
    "                        if_exists=\"replace\",\n",
    "                        con=eng,\n",
    "                        schema=\"product\",\n",
    "                        index=False,\n",
    "                        dtype={\n",
    "                            'dt': sa.DateTime(),\n",
    "                            'activity_type': sa.types.INTEGER(),\n",
    "                            'user_id': sa.types.INTEGER(),\n",
    "                            'contact_id': sa.types.INTEGER(),\n",
    "                            'user_app': sa.types.VARCHAR(50)\n",
    "                        })\n"
   ]
  },
  {
   "cell_type": "markdown",
   "id": "badeb244-f60f-499b-b267-6d11917765f0",
   "metadata": {},
   "source": [
    "#### Users table"
   ]
  },
  {
   "cell_type": "code",
   "execution_count": 81,
   "id": "cc87ec68-f6c1-480f-98f7-ec02cee011a8",
   "metadata": {},
   "outputs": [
    {
     "name": "stdout",
     "output_type": "stream",
     "text": [
      "<class 'pandas.core.frame.DataFrame'>\n",
      "RangeIndex: 1013277 entries, 0 to 1013276\n",
      "Data columns (total 9 columns):\n",
      " #   Column         Non-Null Count    Dtype \n",
      "---  ------         --------------    ----- \n",
      " 0   reg_dt         1013277 non-null  object\n",
      " 1   id             1013277 non-null  int64 \n",
      " 2   gender         1013277 non-null  object\n",
      " 3   age            1013277 non-null  int64 \n",
      " 4   country_code   1013075 non-null  object\n",
      " 5   device_type    1013277 non-null  int64 \n",
      " 6   app            1013277 non-null  object\n",
      " 7   lang           1013277 non-null  object\n",
      " 8   subchannel_id  1013277 non-null  int64 \n",
      "dtypes: int64(4), object(5)\n",
      "memory usage: 69.6+ MB\n"
     ]
    }
   ],
   "source": [
    "users_file = \"../../sandbox.KNU/product/users.tsv\"\n",
    "\n",
    "users_df = pd.read_csv(users_file, sep='\\t')\n",
    "users_df.info()"
   ]
  },
  {
   "cell_type": "code",
   "execution_count": 83,
   "id": "5ec0a2f6-8c25-49c9-a819-1303b132a2e8",
   "metadata": {},
   "outputs": [],
   "source": [
    "users_df.to_sql(\"users\", \n",
    "                        if_exists=\"replace\",\n",
    "                        con=eng,\n",
    "                        schema=\"product\",\n",
    "                        index=False,\n",
    "                        dtype={\n",
    "                            'reg_dt': sa.DateTime(),\n",
    "                            'id': sa.types.INTEGER(),\n",
    "                            'age': sa.types.INTEGER(),\n",
    "                            'device_type': sa.types.INTEGER(),\n",
    "                            'subchannel_id': sa.types.INTEGER(),\n",
    "                            'country_code': sa.types.VARCHAR(2),\n",
    "                            'lang': sa.types.VARCHAR(2),\n",
    "                            'gender': sa.types.VARCHAR(1),\n",
    "                            'app': sa.types.VARCHAR(20),\n",
    "                        })\n"
   ]
  },
  {
   "cell_type": "markdown",
   "id": "912ce316-c98a-4512-8bff-9e0d13ee9f81",
   "metadata": {},
   "source": [
    "#### User session end table"
   ]
  },
  {
   "cell_type": "code",
   "execution_count": 87,
   "id": "883f89a2-87fd-4d41-aa9d-ae01a59c0726",
   "metadata": {},
   "outputs": [
    {
     "name": "stdout",
     "output_type": "stream",
     "text": [
      "<class 'pandas.core.frame.DataFrame'>\n",
      "RangeIndex: 2978202 entries, 0 to 2978201\n",
      "Data columns (total 5 columns):\n",
      " #   Column          Dtype \n",
      "---  ------          ----- \n",
      " 0   user_id         int64 \n",
      " 1   dt              object\n",
      " 2   duration        int64 \n",
      " 3   cnt_visitors    int64 \n",
      " 4   session_number  int64 \n",
      "dtypes: int64(4), object(1)\n",
      "memory usage: 113.6+ MB\n"
     ]
    }
   ],
   "source": [
    "user_sesson_end_file = \"../../sandbox.KNU/product/user_session_end.tsv\"\n",
    "\n",
    "user_session_end_df = pd.read_csv(user_sesson_end_file, sep='\\t')\n",
    "user_session_end_df.info()"
   ]
  },
  {
   "cell_type": "code",
   "execution_count": 88,
   "id": "fbda1047-058f-4acf-9e2a-9dd8dca6fdeb",
   "metadata": {},
   "outputs": [],
   "source": [
    "user_session_end_df.to_sql(\"user_session_end\", \n",
    "                        if_exists=\"replace\",\n",
    "                        con=eng,\n",
    "                        schema=\"product\",\n",
    "                        index=False,\n",
    "                        dtype={\n",
    "                            'dt': sa.DateTime(),\n",
    "                            'user_id': sa.types.INTEGER(),\n",
    "                            'duration': sa.types.INTEGER(),\n",
    "                            'cnt_visitors': sa.types.INTEGER(),\n",
    "                            'session_number': sa.types.INTEGER(),\n",
    "                        })\n"
   ]
  }
 ],
 "metadata": {
  "kernelspec": {
   "display_name": "Python 3 (ipykernel)",
   "language": "python",
   "name": "python3"
  },
  "language_info": {
   "codemirror_mode": {
    "name": "ipython",
    "version": 3
   },
   "file_extension": ".py",
   "mimetype": "text/x-python",
   "name": "python",
   "nbconvert_exporter": "python",
   "pygments_lexer": "ipython3",
   "version": "3.9.7"
  }
 },
 "nbformat": 4,
 "nbformat_minor": 5
}
